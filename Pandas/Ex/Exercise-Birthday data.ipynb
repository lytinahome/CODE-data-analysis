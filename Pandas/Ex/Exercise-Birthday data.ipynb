{
 "cells": [
  {
   "cell_type": "markdown",
   "metadata": {},
   "source": [
    "## Birthrate Data\n",
    "\n",
    "As a more interesting example, let's take a look at the freely available data on births in the United States, provided by the Centers for Disease Control (CDC).\n",
    "This data can be found at https://raw.githubusercontent.com/jakevdp/data-CDCbirths/master/births.csv\n",
    "(this dataset has been analyzed rather extensively by Andrew Gelman and his group; see, for example, [this blog post](http://andrewgelman.com/2012/06/14/cool-ass-signal-processing-using-gaussian-processes/)):"
   ]
  },
  {
   "cell_type": "code",
   "execution_count": 11,
   "metadata": {},
   "outputs": [],
   "source": [
    "import numpy as np\n",
    "import pandas as pd\n",
    "import matplotlib.pyplot as plt\n",
    "import seaborn as sns"
   ]
  },
  {
   "cell_type": "code",
   "execution_count": 4,
   "metadata": {},
   "outputs": [
    {
     "name": "stderr",
     "output_type": "stream",
     "text": [
      "  % Total    % Received % Xferd  Average Speed   Time    Time     Time  Current\n",
      "                                 Dload  Upload   Total   Spent    Left  Speed\n",
      "\n",
      "  0     0    0     0    0     0      0      0 --:--:-- --:--:-- --:--:--     0\n",
      "  0     0    0     0    0     0      0      0 --:--:-- --:--:-- --:--:--     0\n",
      "100  258k  100  258k    0     0   165k      0  0:00:01  0:00:01 --:--:--  168k\n"
     ]
    }
   ],
   "source": [
    "# !curl -O https://raw.githubusercontent.com/jakevdp/data-CDCbirths/master/births.csv"
   ]
  },
  {
   "cell_type": "code",
   "execution_count": 7,
   "metadata": {},
   "outputs": [],
   "source": [
    "births = pd.read_csv('births.csv')"
   ]
  },
  {
   "cell_type": "code",
   "execution_count": 8,
   "metadata": {},
   "outputs": [
    {
     "data": {
      "text/html": [
       "<div>\n",
       "<style scoped>\n",
       "    .dataframe tbody tr th:only-of-type {\n",
       "        vertical-align: middle;\n",
       "    }\n",
       "\n",
       "    .dataframe tbody tr th {\n",
       "        vertical-align: top;\n",
       "    }\n",
       "\n",
       "    .dataframe thead th {\n",
       "        text-align: right;\n",
       "    }\n",
       "</style>\n",
       "<table border=\"1\" class=\"dataframe\">\n",
       "  <thead>\n",
       "    <tr style=\"text-align: right;\">\n",
       "      <th></th>\n",
       "      <th>year</th>\n",
       "      <th>month</th>\n",
       "      <th>day</th>\n",
       "      <th>gender</th>\n",
       "      <th>births</th>\n",
       "    </tr>\n",
       "  </thead>\n",
       "  <tbody>\n",
       "    <tr>\n",
       "      <th>0</th>\n",
       "      <td>1969</td>\n",
       "      <td>1</td>\n",
       "      <td>1.0</td>\n",
       "      <td>F</td>\n",
       "      <td>4046</td>\n",
       "    </tr>\n",
       "    <tr>\n",
       "      <th>1</th>\n",
       "      <td>1969</td>\n",
       "      <td>1</td>\n",
       "      <td>1.0</td>\n",
       "      <td>M</td>\n",
       "      <td>4440</td>\n",
       "    </tr>\n",
       "    <tr>\n",
       "      <th>2</th>\n",
       "      <td>1969</td>\n",
       "      <td>1</td>\n",
       "      <td>2.0</td>\n",
       "      <td>F</td>\n",
       "      <td>4454</td>\n",
       "    </tr>\n",
       "    <tr>\n",
       "      <th>3</th>\n",
       "      <td>1969</td>\n",
       "      <td>1</td>\n",
       "      <td>2.0</td>\n",
       "      <td>M</td>\n",
       "      <td>4548</td>\n",
       "    </tr>\n",
       "    <tr>\n",
       "      <th>4</th>\n",
       "      <td>1969</td>\n",
       "      <td>1</td>\n",
       "      <td>3.0</td>\n",
       "      <td>F</td>\n",
       "      <td>4548</td>\n",
       "    </tr>\n",
       "  </tbody>\n",
       "</table>\n",
       "</div>"
      ],
      "text/plain": [
       "   year  month  day gender  births\n",
       "0  1969      1  1.0      F    4046\n",
       "1  1969      1  1.0      M    4440\n",
       "2  1969      1  2.0      F    4454\n",
       "3  1969      1  2.0      M    4548\n",
       "4  1969      1  3.0      F    4548"
      ]
     },
     "execution_count": 8,
     "metadata": {},
     "output_type": "execute_result"
    }
   ],
   "source": [
    "births.head()"
   ]
  },
  {
   "cell_type": "code",
   "execution_count": 9,
   "metadata": {},
   "outputs": [
    {
     "data": {
      "text/html": [
       "<div>\n",
       "<style scoped>\n",
       "    .dataframe tbody tr th:only-of-type {\n",
       "        vertical-align: middle;\n",
       "    }\n",
       "\n",
       "    .dataframe tbody tr th {\n",
       "        vertical-align: top;\n",
       "    }\n",
       "\n",
       "    .dataframe thead th {\n",
       "        text-align: right;\n",
       "    }\n",
       "</style>\n",
       "<table border=\"1\" class=\"dataframe\">\n",
       "  <thead>\n",
       "    <tr style=\"text-align: right;\">\n",
       "      <th>gender</th>\n",
       "      <th>F</th>\n",
       "      <th>M</th>\n",
       "    </tr>\n",
       "    <tr>\n",
       "      <th>decade</th>\n",
       "      <th></th>\n",
       "      <th></th>\n",
       "    </tr>\n",
       "  </thead>\n",
       "  <tbody>\n",
       "    <tr>\n",
       "      <th>1960</th>\n",
       "      <td>1753634</td>\n",
       "      <td>1846572</td>\n",
       "    </tr>\n",
       "    <tr>\n",
       "      <th>1970</th>\n",
       "      <td>16263075</td>\n",
       "      <td>17121550</td>\n",
       "    </tr>\n",
       "    <tr>\n",
       "      <th>1980</th>\n",
       "      <td>18310351</td>\n",
       "      <td>19243452</td>\n",
       "    </tr>\n",
       "    <tr>\n",
       "      <th>1990</th>\n",
       "      <td>19479454</td>\n",
       "      <td>20420553</td>\n",
       "    </tr>\n",
       "    <tr>\n",
       "      <th>2000</th>\n",
       "      <td>18229309</td>\n",
       "      <td>19106428</td>\n",
       "    </tr>\n",
       "  </tbody>\n",
       "</table>\n",
       "</div>"
      ],
      "text/plain": [
       "gender         F         M\n",
       "decade                    \n",
       "1960     1753634   1846572\n",
       "1970    16263075  17121550\n",
       "1980    18310351  19243452\n",
       "1990    19479454  20420553\n",
       "2000    18229309  19106428"
      ]
     },
     "execution_count": 9,
     "metadata": {},
     "output_type": "execute_result"
    }
   ],
   "source": [
    "births['decade'] = 10 * (births['year'] // 10)\n",
    "births.pivot_table('births', index='decade', columns='gender', aggfunc='sum')"
   ]
  },
  {
   "cell_type": "code",
   "execution_count": 12,
   "metadata": {},
   "outputs": [
    {
     "data": {
      "image/png": "[encoded data removed]",
      "text/plain": [
       "<Figure size 432x288 with 1 Axes>"
      ]
     },
     "metadata": {},
     "output_type": "display_data"
    }
   ],
   "source": [
    "%matplotlib inline\n",
    "sns.set()  # use Seaborn styles\n",
    "births.pivot_table('births', index='year', columns='gender', aggfunc='sum').plot()\n",
    "plt.ylabel('total births per year');"
   ]
  },
  {
   "cell_type": "markdown",
   "metadata": {},
   "source": [
    "### Further data exploration\n",
    "\n",
    "Though this doesn't necessarily relate to the pivot table, there are a few more interesting features we can pull out of this dataset using the Pandas tools covered up to this point.\n",
    "We must start by cleaning the data a bit, removing outliers caused by mistyped dates (e.g., June 31st) or missing values (e.g., June 99th).\n",
    "One easy way to remove these all at once is to cut outliers; we'll do this via a robust sigma-clipping operation:"
   ]
  },
  {
   "cell_type": "code",
   "execution_count": 13,
   "metadata": {},
   "outputs": [],
   "source": [
    "quartiles = np.percentile(births['births'], [25, 50, 75])\n",
    "mu = quartiles[1]\n",
    "sig = 0.74 * (quartiles[2] - quartiles[0])"
   ]
  },
  {
   "cell_type": "markdown",
   "metadata": {},
   "source": [
    "This final line is a robust estimate of the sample mean, where the 0.74 comes from the interquartile range of a Gaussian distribution (You can learn more about sigma-clipping operations in a book I coauthored with Željko Ivezić, Andrew J. Connolly, and Alexander Gray: \"Statistics, Data Mining, and Machine Learning in Astronomy\" (Princeton University Press, 2014)).\n",
    "\n",
    "With this we can use the query() method to filter-out rows with births outside these values:"
   ]
  },
  {
   "cell_type": "code",
   "execution_count": 16,
   "metadata": {},
   "outputs": [],
   "source": [
    "births = births.query('(births > @mu - 5 * @sig) & (births < @mu + 5 * @sig)')"
   ]
  },
  {
   "cell_type": "markdown",
   "metadata": {},
   "source": [
    "Next we set the ``day`` column to integers; previously it had been a string because some columns in the dataset contained the value ``'null'``:"
   ]
  },
  {
   "cell_type": "code",
   "execution_count": 17,
   "metadata": {},
   "outputs": [],
   "source": [
    "# set 'day' column to integer; it originally was a string due to nulls\n",
    "births['day'] = births['day'].astype(int)"
   ]
  },
  {
   "cell_type": "markdown",
   "metadata": {},
   "source": [
    "Finally, we can combine the day, month, and year to create a Date index. This allows us to quickly compute the weekday corresponding to each row:"
   ]
  },
  {
   "cell_type": "code",
   "execution_count": 19,
   "metadata": {},
   "outputs": [],
   "source": [
    "# create a datetime index from the year, month, day\n",
    "births.index = pd.to_datetime(10000 * births.year +\n",
    "                              100 * births.month +\n",
    "                              births.day, format='%Y%m%d')\n",
    "\n",
    "births['dayofweek'] = births.index.dayofweek"
   ]
  },
  {
   "cell_type": "markdown",
   "metadata": {},
   "source": [
    "Using this we can plot births by weekday for several decades:"
   ]
  },
  {
   "cell_type": "code",
   "execution_count": 21,
   "metadata": {},
   "outputs": [
    {
     "data": {
      "image/png": "[encoded data removed]",
      "text/plain": [
       "<Figure size 432x288 with 1 Axes>"
      ]
     },
     "metadata": {},
     "output_type": "display_data"
    }
   ],
   "source": [
    "import matplotlib.pyplot as plt\n",
    "\n",
    "births.pivot_table('births', index='dayofweek',\n",
    "                    columns='decade', aggfunc='mean').plot()\n",
    "plt.gca().set_xticklabels(['Mon', 'Tues', 'Wed', 'Thurs', 'Fri', 'Sat', 'Sun'])\n",
    "plt.ylabel('mean births by day');"
   ]
  },
  {
   "cell_type": "markdown",
   "metadata": {},
   "source": [
    "Apparently births are slightly less common on weekends than on weekdays! Note that the 1990s and 2000s are missing because the CDC data contains only the month of birth starting in 1989.\n",
    "\n",
    "Another intersting view is to plot the mean number of births by the day of the *year*.\n",
    "Let's first group the data by month and day separately:"
   ]
  },
  {
   "cell_type": "code",
   "execution_count": 35,
   "metadata": {},
   "outputs": [
    {
     "data": {
      "text/html": [
       "<div>\n",
       "<style scoped>\n",
       "    .dataframe tbody tr th:only-of-type {\n",
       "        vertical-align: middle;\n",
       "    }\n",
       "\n",
       "    .dataframe tbody tr th {\n",
       "        vertical-align: top;\n",
       "    }\n",
       "\n",
       "    .dataframe thead th {\n",
       "        text-align: right;\n",
       "    }\n",
       "</style>\n",
       "<table border=\"1\" class=\"dataframe\">\n",
       "  <thead>\n",
       "    <tr style=\"text-align: right;\">\n",
       "      <th></th>\n",
       "      <th>1</th>\n",
       "      <th>2</th>\n",
       "      <th>3</th>\n",
       "      <th>4</th>\n",
       "      <th>5</th>\n",
       "      <th>6</th>\n",
       "      <th>7</th>\n",
       "      <th>8</th>\n",
       "      <th>9</th>\n",
       "      <th>10</th>\n",
       "      <th>...</th>\n",
       "      <th>22</th>\n",
       "      <th>23</th>\n",
       "      <th>24</th>\n",
       "      <th>25</th>\n",
       "      <th>26</th>\n",
       "      <th>27</th>\n",
       "      <th>28</th>\n",
       "      <th>29</th>\n",
       "      <th>30</th>\n",
       "      <th>31</th>\n",
       "    </tr>\n",
       "  </thead>\n",
       "  <tbody>\n",
       "    <tr>\n",
       "      <th>1</th>\n",
       "      <td>4009.225</td>\n",
       "      <td>4247.400</td>\n",
       "      <td>4500.900</td>\n",
       "      <td>4571.350</td>\n",
       "      <td>4603.625</td>\n",
       "      <td>4668.150</td>\n",
       "      <td>4706.925</td>\n",
       "      <td>4629.650</td>\n",
       "      <td>4537.775</td>\n",
       "      <td>4591.700</td>\n",
       "      <td>...</td>\n",
       "      <td>4742.800</td>\n",
       "      <td>4666.750</td>\n",
       "      <td>4653.200</td>\n",
       "      <td>4698.000</td>\n",
       "      <td>4715.900</td>\n",
       "      <td>4747.025</td>\n",
       "      <td>4771.800</td>\n",
       "      <td>4702.300</td>\n",
       "      <td>4644.225</td>\n",
       "      <td>4598.275</td>\n",
       "    </tr>\n",
       "    <tr>\n",
       "      <th>2</th>\n",
       "      <td>4661.450</td>\n",
       "      <td>4743.025</td>\n",
       "      <td>4761.825</td>\n",
       "      <td>4760.825</td>\n",
       "      <td>4728.300</td>\n",
       "      <td>4678.100</td>\n",
       "      <td>4649.650</td>\n",
       "      <td>4668.525</td>\n",
       "      <td>4713.575</td>\n",
       "      <td>4800.850</td>\n",
       "      <td>...</td>\n",
       "      <td>4751.525</td>\n",
       "      <td>4757.450</td>\n",
       "      <td>4829.000</td>\n",
       "      <td>4857.025</td>\n",
       "      <td>4790.575</td>\n",
       "      <td>4693.750</td>\n",
       "      <td>4695.300</td>\n",
       "      <td>4623.400</td>\n",
       "      <td>NaN</td>\n",
       "      <td>NaN</td>\n",
       "    </tr>\n",
       "    <tr>\n",
       "      <th>3</th>\n",
       "      <td>4742.175</td>\n",
       "      <td>4750.550</td>\n",
       "      <td>4871.775</td>\n",
       "      <td>4821.550</td>\n",
       "      <td>4781.600</td>\n",
       "      <td>4721.875</td>\n",
       "      <td>4722.450</td>\n",
       "      <td>4718.225</td>\n",
       "      <td>4692.075</td>\n",
       "      <td>4785.375</td>\n",
       "      <td>...</td>\n",
       "      <td>4667.200</td>\n",
       "      <td>4697.200</td>\n",
       "      <td>4725.050</td>\n",
       "      <td>4773.650</td>\n",
       "      <td>4722.825</td>\n",
       "      <td>4680.850</td>\n",
       "      <td>4694.650</td>\n",
       "      <td>4665.025</td>\n",
       "      <td>4663.425</td>\n",
       "      <td>4723.250</td>\n",
       "    </tr>\n",
       "    <tr>\n",
       "      <th>4</th>\n",
       "      <td>4623.825</td>\n",
       "      <td>4743.825</td>\n",
       "      <td>4652.925</td>\n",
       "      <td>4679.525</td>\n",
       "      <td>4586.825</td>\n",
       "      <td>4642.850</td>\n",
       "      <td>4689.850</td>\n",
       "      <td>4712.025</td>\n",
       "      <td>4649.875</td>\n",
       "      <td>4610.675</td>\n",
       "      <td>...</td>\n",
       "      <td>4686.700</td>\n",
       "      <td>4643.725</td>\n",
       "      <td>4581.150</td>\n",
       "      <td>4602.250</td>\n",
       "      <td>4588.500</td>\n",
       "      <td>4571.950</td>\n",
       "      <td>4656.550</td>\n",
       "      <td>4613.250</td>\n",
       "      <td>4615.100</td>\n",
       "      <td>NaN</td>\n",
       "    </tr>\n",
       "    <tr>\n",
       "      <th>5</th>\n",
       "      <td>4651.275</td>\n",
       "      <td>4616.700</td>\n",
       "      <td>4570.225</td>\n",
       "      <td>4577.000</td>\n",
       "      <td>4687.300</td>\n",
       "      <td>4678.950</td>\n",
       "      <td>4658.950</td>\n",
       "      <td>4623.750</td>\n",
       "      <td>4608.850</td>\n",
       "      <td>4623.175</td>\n",
       "      <td>...</td>\n",
       "      <td>4713.500</td>\n",
       "      <td>4721.100</td>\n",
       "      <td>4689.125</td>\n",
       "      <td>4661.925</td>\n",
       "      <td>4657.750</td>\n",
       "      <td>4738.150</td>\n",
       "      <td>4671.650</td>\n",
       "      <td>4704.050</td>\n",
       "      <td>4601.175</td>\n",
       "      <td>4597.050</td>\n",
       "    </tr>\n",
       "    <tr>\n",
       "      <th>6</th>\n",
       "      <td>4751.475</td>\n",
       "      <td>4804.650</td>\n",
       "      <td>4783.275</td>\n",
       "      <td>4744.475</td>\n",
       "      <td>4706.875</td>\n",
       "      <td>4771.850</td>\n",
       "      <td>4681.050</td>\n",
       "      <td>4681.950</td>\n",
       "      <td>4784.275</td>\n",
       "      <td>4831.375</td>\n",
       "      <td>...</td>\n",
       "      <td>4795.625</td>\n",
       "      <td>4850.550</td>\n",
       "      <td>4897.525</td>\n",
       "      <td>4890.925</td>\n",
       "      <td>4853.975</td>\n",
       "      <td>4852.325</td>\n",
       "      <td>4862.975</td>\n",
       "      <td>4881.650</td>\n",
       "      <td>4981.600</td>\n",
       "      <td>NaN</td>\n",
       "    </tr>\n",
       "    <tr>\n",
       "      <th>7</th>\n",
       "      <td>5021.975</td>\n",
       "      <td>5021.450</td>\n",
       "      <td>4869.425</td>\n",
       "      <td>4335.325</td>\n",
       "      <td>4698.825</td>\n",
       "      <td>4984.500</td>\n",
       "      <td>5153.425</td>\n",
       "      <td>5159.800</td>\n",
       "      <td>5075.400</td>\n",
       "      <td>5041.300</td>\n",
       "      <td>...</td>\n",
       "      <td>5135.675</td>\n",
       "      <td>5092.275</td>\n",
       "      <td>5036.050</td>\n",
       "      <td>5029.325</td>\n",
       "      <td>4998.700</td>\n",
       "      <td>5070.250</td>\n",
       "      <td>5133.525</td>\n",
       "      <td>5151.900</td>\n",
       "      <td>5101.225</td>\n",
       "      <td>5045.275</td>\n",
       "    </tr>\n",
       "    <tr>\n",
       "      <th>8</th>\n",
       "      <td>5068.000</td>\n",
       "      <td>5008.525</td>\n",
       "      <td>5065.250</td>\n",
       "      <td>5087.950</td>\n",
       "      <td>5108.000</td>\n",
       "      <td>5110.925</td>\n",
       "      <td>5082.675</td>\n",
       "      <td>5153.575</td>\n",
       "      <td>5027.775</td>\n",
       "      <td>5083.375</td>\n",
       "      <td>...</td>\n",
       "      <td>5058.850</td>\n",
       "      <td>5007.050</td>\n",
       "      <td>5035.200</td>\n",
       "      <td>5107.675</td>\n",
       "      <td>5167.500</td>\n",
       "      <td>5124.700</td>\n",
       "      <td>5099.775</td>\n",
       "      <td>5062.000</td>\n",
       "      <td>5027.850</td>\n",
       "      <td>5048.650</td>\n",
       "    </tr>\n",
       "    <tr>\n",
       "      <th>9</th>\n",
       "      <td>4908.325</td>\n",
       "      <td>4982.000</td>\n",
       "      <td>5003.925</td>\n",
       "      <td>5013.400</td>\n",
       "      <td>4954.600</td>\n",
       "      <td>4955.000</td>\n",
       "      <td>4995.450</td>\n",
       "      <td>5165.475</td>\n",
       "      <td>5263.400</td>\n",
       "      <td>5214.500</td>\n",
       "      <td>...</td>\n",
       "      <td>5316.825</td>\n",
       "      <td>5320.425</td>\n",
       "      <td>5284.050</td>\n",
       "      <td>5240.000</td>\n",
       "      <td>5250.650</td>\n",
       "      <td>5190.150</td>\n",
       "      <td>5168.450</td>\n",
       "      <td>5218.825</td>\n",
       "      <td>5224.775</td>\n",
       "      <td>NaN</td>\n",
       "    </tr>\n",
       "    <tr>\n",
       "      <th>10</th>\n",
       "      <td>5167.325</td>\n",
       "      <td>5103.625</td>\n",
       "      <td>5067.375</td>\n",
       "      <td>5005.175</td>\n",
       "      <td>5025.075</td>\n",
       "      <td>5048.100</td>\n",
       "      <td>5024.100</td>\n",
       "      <td>4989.875</td>\n",
       "      <td>4945.425</td>\n",
       "      <td>4975.975</td>\n",
       "      <td>...</td>\n",
       "      <td>4810.250</td>\n",
       "      <td>4755.500</td>\n",
       "      <td>4758.775</td>\n",
       "      <td>4744.350</td>\n",
       "      <td>4788.050</td>\n",
       "      <td>4821.350</td>\n",
       "      <td>4826.100</td>\n",
       "      <td>4775.575</td>\n",
       "      <td>4745.050</td>\n",
       "      <td>4662.800</td>\n",
       "    </tr>\n",
       "    <tr>\n",
       "      <th>11</th>\n",
       "      <td>4729.800</td>\n",
       "      <td>4727.150</td>\n",
       "      <td>4821.775</td>\n",
       "      <td>4849.400</td>\n",
       "      <td>4808.075</td>\n",
       "      <td>4758.475</td>\n",
       "      <td>4783.175</td>\n",
       "      <td>4752.750</td>\n",
       "      <td>4784.125</td>\n",
       "      <td>4836.300</td>\n",
       "      <td>...</td>\n",
       "      <td>4601.900</td>\n",
       "      <td>4650.650</td>\n",
       "      <td>4647.125</td>\n",
       "      <td>4649.800</td>\n",
       "      <td>4587.250</td>\n",
       "      <td>4511.550</td>\n",
       "      <td>4590.775</td>\n",
       "      <td>4676.725</td>\n",
       "      <td>4765.475</td>\n",
       "      <td>NaN</td>\n",
       "    </tr>\n",
       "    <tr>\n",
       "      <th>12</th>\n",
       "      <td>4836.500</td>\n",
       "      <td>4830.300</td>\n",
       "      <td>4758.500</td>\n",
       "      <td>4718.725</td>\n",
       "      <td>4734.675</td>\n",
       "      <td>4683.050</td>\n",
       "      <td>4704.325</td>\n",
       "      <td>4803.800</td>\n",
       "      <td>4793.825</td>\n",
       "      <td>4785.325</td>\n",
       "      <td>...</td>\n",
       "      <td>4661.925</td>\n",
       "      <td>4466.675</td>\n",
       "      <td>4126.250</td>\n",
       "      <td>3844.450</td>\n",
       "      <td>4383.525</td>\n",
       "      <td>4850.150</td>\n",
       "      <td>5044.200</td>\n",
       "      <td>5120.150</td>\n",
       "      <td>5172.350</td>\n",
       "      <td>4859.200</td>\n",
       "    </tr>\n",
       "  </tbody>\n",
       "</table>\n",
       "<p>12 rows × 31 columns</p>\n",
       "</div>"
      ],
      "text/plain": [
       "          1         2         3         4         5         6         7   \\\n",
       "1   4009.225  4247.400  4500.900  4571.350  4603.625  4668.150  4706.925   \n",
       "2   4661.450  4743.025  4761.825  4760.825  4728.300  4678.100  4649.650   \n",
       "3   4742.175  4750.550  4871.775  4821.550  4781.600  4721.875  4722.450   \n",
       "4   4623.825  4743.825  4652.925  4679.525  4586.825  4642.850  4689.850   \n",
       "5   4651.275  4616.700  4570.225  4577.000  4687.300  4678.950  4658.950   \n",
       "6   4751.475  4804.650  4783.275  4744.475  4706.875  4771.850  4681.050   \n",
       "7   5021.975  5021.450  4869.425  4335.325  4698.825  4984.500  5153.425   \n",
       "8   5068.000  5008.525  5065.250  5087.950  5108.000  5110.925  5082.675   \n",
       "9   4908.325  4982.000  5003.925  5013.400  4954.600  4955.000  4995.450   \n",
       "10  5167.325  5103.625  5067.375  5005.175  5025.075  5048.100  5024.100   \n",
       "11  4729.800  4727.150  4821.775  4849.400  4808.075  4758.475  4783.175   \n",
       "12  4836.500  4830.300  4758.500  4718.725  4734.675  4683.050  4704.325   \n",
       "\n",
       "          8         9         10  ...        22        23        24        25  \\\n",
       "1   4629.650  4537.775  4591.700  ...  4742.800  4666.750  4653.200  4698.000   \n",
       "2   4668.525  4713.575  4800.850  ...  4751.525  4757.450  4829.000  4857.025   \n",
       "3   4718.225  4692.075  4785.375  ...  4667.200  4697.200  4725.050  4773.650   \n",
       "4   4712.025  4649.875  4610.675  ...  4686.700  4643.725  4581.150  4602.250   \n",
       "5   4623.750  4608.850  4623.175  ...  4713.500  4721.100  4689.125  4661.925   \n",
       "6   4681.950  4784.275  4831.375  ...  4795.625  4850.550  4897.525  4890.925   \n",
       "7   5159.800  5075.400  5041.300  ...  5135.675  5092.275  5036.050  5029.325   \n",
       "8   5153.575  5027.775  5083.375  ...  5058.850  5007.050  5035.200  5107.675   \n",
       "9   5165.475  5263.400  5214.500  ...  5316.825  5320.425  5284.050  5240.000   \n",
       "10  4989.875  4945.425  4975.975  ...  4810.250  4755.500  4758.775  4744.350   \n",
       "11  4752.750  4784.125  4836.300  ...  4601.900  4650.650  4647.125  4649.800   \n",
       "12  4803.800  4793.825  4785.325  ...  4661.925  4466.675  4126.250  3844.450   \n",
       "\n",
       "          26        27        28        29        30        31  \n",
       "1   4715.900  4747.025  4771.800  4702.300  4644.225  4598.275  \n",
       "2   4790.575  4693.750  4695.300  4623.400       NaN       NaN  \n",
       "3   4722.825  4680.850  4694.650  4665.025  4663.425  4723.250  \n",
       "4   4588.500  4571.950  4656.550  4613.250  4615.100       NaN  \n",
       "5   4657.750  4738.150  4671.650  4704.050  4601.175  4597.050  \n",
       "6   4853.975  4852.325  4862.975  4881.650  4981.600       NaN  \n",
       "7   4998.700  5070.250  5133.525  5151.900  5101.225  5045.275  \n",
       "8   5167.500  5124.700  5099.775  5062.000  5027.850  5048.650  \n",
       "9   5250.650  5190.150  5168.450  5218.825  5224.775       NaN  \n",
       "10  4788.050  4821.350  4826.100  4775.575  4745.050  4662.800  \n",
       "11  4587.250  4511.550  4590.775  4676.725  4765.475       NaN  \n",
       "12  4383.525  4850.150  5044.200  5120.150  5172.350  4859.200  \n",
       "\n",
       "[12 rows x 31 columns]"
      ]
     },
     "execution_count": 35,
     "metadata": {},
     "output_type": "execute_result"
    }
   ],
   "source": [
    "births_by_date = births.pivot_table('births', \n",
    "                                    columns = births.index.day, index = births.index.month)\n",
    "births_by_date"
   ]
  },
  {
   "cell_type": "markdown",
   "metadata": {},
   "source": [
    "To visualize this result, we can add a fake year information. let's turn these months and days into a date by associating them with a dummy year variable (making sure to choose a leap year so February 29th is correctly handled!)"
   ]
  },
  {
   "cell_type": "code",
   "execution_count": 36,
   "metadata": {},
   "outputs": [],
   "source": [
    "births_by_date2 = births_by_date.stack()"
   ]
  },
  {
   "cell_type": "code",
   "execution_count": 37,
   "metadata": {},
   "outputs": [
    {
     "data": {
      "text/plain": [
       "2000-01-01    4009.225\n",
       "2000-01-02    4247.400\n",
       "2000-01-03    4500.900\n",
       "2000-01-04    4571.350\n",
       "2000-01-05    4603.625\n",
       "dtype: float64"
      ]
     },
     "execution_count": 37,
     "metadata": {},
     "output_type": "execute_result"
    }
   ],
   "source": [
    "births_by_date2.index = [pd.datetime(2000, month, day)\n",
    "                        for (month, day) in births_by_date2.index]\n",
    "births_by_date2.head()"
   ]
  },
  {
   "cell_type": "markdown",
   "metadata": {},
   "source": [
    "Focusing on the month and day only, we now have a time series reflecting the average number of births by date of the year. From this, we can use the plot method to plot the data. It reveals some interesting trends:"
   ]
  },
  {
   "cell_type": "code",
   "execution_count": 39,
   "metadata": {},
   "outputs": [
    {
     "data": {
      "image/png": "[encoded data removed]",
      "text/plain": [
       "<Figure size 864x288 with 1 Axes>"
      ]
     },
     "metadata": {},
     "output_type": "display_data"
    }
   ],
   "source": [
    "# Plot the results\n",
    "fig, ax = plt.subplots(figsize=(12, 4))\n",
    "births_by_date2.plot(ax=ax);"
   ]
  },
  {
   "cell_type": "markdown",
   "metadata": {},
   "source": [
    "In particular, the striking feature of this graph is the dip in birthrate on US holidays (e.g., Independence Day, Labor Day, Thanksgiving, Christmas, New Year's Day) although this likely reflects trends in scheduled/induced births rather than some deep psychosomatic effect on natural births. For more discussion on this trend, see the analysis and links in Andrew Gelman's blog post on the subject. We'll return to this figure in Example:-Effect-of-Holidays-on-US-Births, where we will use Matplotlib's tools to annotate this plot.\n",
    "\n",
    "Looking at this short example, you can see that many of the Python and Pandas tools we've seen to this point can be combined and used to gain insight from a variety of datasets. We will see some more sophisticated applications of these data manipulations in future sections!"
   ]
  },
  {
   "cell_type": "code",
   "execution_count": null,
   "metadata": {},
   "outputs": [],
   "source": []
  }
 ],
 "metadata": {
  "kernelspec": {
   "display_name": "Python 3",
   "language": "python",
   "name": "python3"
  },
  "language_info": {
   "codemirror_mode": {
    "name": "ipython",
    "version": 3
   },
   "file_extension": ".py",
   "mimetype": "text/x-python",
   "name": "python",
   "nbconvert_exporter": "python",
   "pygments_lexer": "ipython3",
   "version": "3.6.9"
  }
 },
 "nbformat": 4,
 "nbformat_minor": 2
}
